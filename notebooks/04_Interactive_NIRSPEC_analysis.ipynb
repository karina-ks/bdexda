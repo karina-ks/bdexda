{
 "cells": [
  {
   "cell_type": "markdown",
   "id": "macro-avatar",
   "metadata": {},
   "source": [
    "# Interactive NIRSPEC analysis\n",
    "\n",
    "We will use data from the [Keck NIRSPEC Spectrograph](https://www2.keck.hawaii.edu/inst/nirspec/) to compare real observed spectra to theoretical models.  For this first pass we will use data from the [Brown Dwarf Spectroscopic Archive](http://www.astro.ucla.edu/~mclean/BDSSarchive/) (BDSS)."
   ]
  },
  {
   "cell_type": "code",
   "execution_count": null,
   "id": "successful-africa",
   "metadata": {},
   "outputs": [],
   "source": [
    "import numpy as np\n",
    "import pandas as pd\n",
    "import bokeh"
   ]
  },
  {
   "cell_type": "markdown",
   "id": "mounted-falls",
   "metadata": {},
   "source": [
    "## Read in the NIRSPEC data"
   ]
  },
  {
   "cell_type": "markdown",
   "id": "juvenile-invention",
   "metadata": {},
   "source": [
    "Download each spectrum from the `High-Resolution Data Products` portion of this website:  \n",
    "http://www.astro.ucla.edu/~mclean/BDSSarchive/\n",
    "\n",
    "and then put them in the `data/NIRSPEC/` directory of this project."
   ]
  },
  {
   "cell_type": "code",
   "execution_count": null,
   "id": "closed-visit",
   "metadata": {},
   "outputs": [],
   "source": [
    "#! wget http://www.astro.ucla.edu/~mclean/BDSSarchive/objects/2mass0036/2mass0036_65.dat\n",
    "#! mv 2mass0036_65.dat ../data/"
   ]
  },
  {
   "cell_type": "code",
   "execution_count": null,
   "id": "geological-organic",
   "metadata": {},
   "outputs": [],
   "source": [
    "! head ../data/2mass0036_58.dat"
   ]
  },
  {
   "cell_type": "code",
   "execution_count": null,
   "id": "revised-plant",
   "metadata": {},
   "outputs": [],
   "source": [
    "import glob"
   ]
  },
  {
   "cell_type": "code",
   "execution_count": null,
   "id": "dried-armenia",
   "metadata": {},
   "outputs": [],
   "source": [
    "files = sorted(glob.glob('../data/NIRSPEC/BDSS/2mass0036*.dat'))"
   ]
  },
  {
   "cell_type": "code",
   "execution_count": null,
   "id": "opposite-gravity",
   "metadata": {},
   "outputs": [],
   "source": [
    "order_nums = [int(file[-6:-4]) for file in files]"
   ]
  },
  {
   "cell_type": "code",
   "execution_count": null,
   "id": "danish-antenna",
   "metadata": {},
   "outputs": [],
   "source": [
    "df_data = pd.DataFrame()\n",
    "for file, order_num in zip(files, order_nums):\n",
    "    df = pd.read_csv(file, comment='#', names=['wavelength', 'flux'], delim_whitespace=True)\n",
    "    df['order'] = order_num\n",
    "    df_data = df_data.append(df, ignore_index=True)"
   ]
  },
  {
   "cell_type": "code",
   "execution_count": null,
   "id": "hourly-burner",
   "metadata": {},
   "outputs": [],
   "source": [
    "df_data"
   ]
  },
  {
   "cell_type": "markdown",
   "id": "strategic-denver",
   "metadata": {},
   "source": [
    "## Read in the models\n",
    "Read in the model spectra same as before:"
   ]
  },
  {
   "cell_type": "code",
   "execution_count": null,
   "id": "level-graph",
   "metadata": {},
   "outputs": [],
   "source": [
    "teff_points = np.array([500, 525, 550, 575, 600, 650, 700, 750, 800,\n",
    "            850, 900, 950,  1000, 1100, 1200, 1300, 1400, 1500, 1600, 1700,\n",
    "            1800,1900, 2000, 2100, 2200, 2300, 2400])\n",
    "logg_points = np.arange(4.0, 5.51, 0.25)"
   ]
  },
  {
   "cell_type": "code",
   "execution_count": null,
   "id": "equal-freight",
   "metadata": {},
   "outputs": [],
   "source": [
    "logg_par_dict = {4.0:\"100\",4.25:\"178\",4.5:\"316\",4.75:\"562\",\n",
    "                           5.0:\"1000\",5.25:\"1780\",5.5:\"3160\"}"
   ]
  },
  {
   "cell_type": "code",
   "execution_count": null,
   "id": "valid-identification",
   "metadata": {},
   "outputs": [],
   "source": [
    "def load_and_prep_spectrum(fn, wl_low=1.16, wl_high=1.1330, downsample=4):\n",
    "    df_native = pd.read_csv(fn, \n",
    "                        skiprows=[0, 1], \n",
    "                        delim_whitespace=True, \n",
    "                        compression='gzip',\n",
    "                        names=['wavelength', 'flux']\n",
    "                       ).sort_values('wavelength').reset_index(drop=True)\n",
    "\n",
    "    nir_mask = (df_native.wavelength > wl_low) & (df_native.wavelength < wl_high)\n",
    "\n",
    "    ## decimate the data:\n",
    "    df_nir = df_native[nir_mask].rolling(int(downsample*2.5), win_type='gaussian')\\\n",
    "                                .mean(std=downsample/2)\\\n",
    "                                .iloc[::downsample, :]\\\n",
    "                                .dropna()\\\n",
    "                                .reset_index(drop=True)\n",
    "    \n",
    "    return df_nir"
   ]
  },
  {
   "cell_type": "markdown",
   "id": "above-recording",
   "metadata": {},
   "source": [
    "### Optional: make a pre-cached grid\n",
    "\n",
    "Pre-caching should make it faster---in principle---to read in from a voluminous model grid."
   ]
  },
  {
   "cell_type": "code",
   "execution_count": null,
   "id": "specific-messenger",
   "metadata": {},
   "outputs": [],
   "source": [
    "import tqdm"
   ]
  },
  {
   "cell_type": "code",
   "execution_count": null,
   "id": "brazilian-keeping",
   "metadata": {},
   "outputs": [],
   "source": [
    "#import matplotlib.pyplot as plt"
   ]
  },
  {
   "cell_type": "markdown",
   "id": "thirty-politics",
   "metadata": {},
   "source": [
    "Be careful, pre-caching the entire grid can max-out RAM depending on your settings.  It takes 26 seconds on my computer."
   ]
  },
  {
   "cell_type": "code",
   "execution_count": null,
   "id": "adjusted-monday",
   "metadata": {},
   "outputs": [],
   "source": [
    "precache = True"
   ]
  },
  {
   "cell_type": "code",
   "execution_count": null,
   "id": "faced-developer",
   "metadata": {},
   "outputs": [],
   "source": [
    "if precache:\n",
    "    precached_grid = {}\n",
    "    for teff in tqdm.tqdm(teff_points):\n",
    "        for logg in logg_points:\n",
    "            base_name = \"sp_t{0:0>.0f}g{1:}nc_m0.0\".format(np.float(teff), logg_par_dict[logg])\n",
    "            fn = '../../intuition/models/spectra/'+base_name+'.gz'\n",
    "            df_nir = load_and_prep_spectrum(fn, downsample=4)\n",
    "            precached_grid[base_name] = df_nir"
   ]
  },
  {
   "cell_type": "markdown",
   "id": "enormous-arctic",
   "metadata": {},
   "source": [
    "Load a single spectrum:"
   ]
  },
  {
   "cell_type": "code",
   "execution_count": null,
   "id": "efficient-constraint",
   "metadata": {},
   "outputs": [],
   "source": [
    "teff = 1000\n",
    "logg = 5\n",
    "base_name = \"sp_t{0:0>.0f}g{1:}nc_m0.0\".format(np.float(teff), logg_par_dict[logg])"
   ]
  },
  {
   "cell_type": "code",
   "execution_count": null,
   "id": "central-exception",
   "metadata": {},
   "outputs": [],
   "source": [
    "%%time\n",
    "if precache:\n",
    "    df_nir = precached_grid[base_name]"
   ]
  },
  {
   "cell_type": "code",
   "execution_count": null,
   "id": "confused-championship",
   "metadata": {},
   "outputs": [],
   "source": [
    "%%time\n",
    "fn = '../../intuition/models/spectra/'+base_name+'.gz'\n",
    "df_nir = load_and_prep_spectrum(fn, downsample=4)"
   ]
  },
  {
   "cell_type": "markdown",
   "id": "deluxe-muslim",
   "metadata": {},
   "source": [
    "We will build heavily off of the [interact](https://github.com/lightkurve/lightkurve/blob/main/src/lightkurve/interact.py) method from the [lightkurve](https://docs.lightkurve.org/) framework."
   ]
  },
  {
   "cell_type": "code",
   "execution_count": null,
   "id": "otherwise-russell",
   "metadata": {},
   "outputs": [],
   "source": [
    "from bokeh.io import show, output_notebook, push_notebook\n",
    "from bokeh.plotting import figure, ColumnDataSource\n",
    "from bokeh.models import (\n",
    "    Slider,\n",
    "    Span,\n",
    "    Range1d,\n",
    "    Dropdown\n",
    ")\n",
    "from bokeh.layouts import layout, Spacer\n",
    "from bokeh.models.widgets import Button, Div\n",
    "\n",
    "from scipy.ndimage import gaussian_filter1d\n",
    "from collections import OrderedDict"
   ]
  },
  {
   "cell_type": "code",
   "execution_count": null,
   "id": "smaller-trash",
   "metadata": {},
   "outputs": [],
   "source": [
    "def find_nearest(array, value):\n",
    "    array = np.asarray(array)\n",
    "    idx = (np.abs(array - value)).argmin()\n",
    "    return array[idx]"
   ]
  },
  {
   "cell_type": "code",
   "execution_count": null,
   "id": "received-scanning",
   "metadata": {},
   "outputs": [],
   "source": [
    "teff_dict = OrderedDict()\n",
    "for i, teff in enumerate(teff_points):\n",
    "    teff_dict[i]=str(teff)"
   ]
  },
  {
   "cell_type": "markdown",
   "id": "present-constant",
   "metadata": {},
   "source": [
    "## Pick an individual echelle order to focus on:\n",
    "\n",
    "Must be in the range 65 - 58, inclusive."
   ]
  },
  {
   "cell_type": "code",
   "execution_count": null,
   "id": "chemical-jersey",
   "metadata": {},
   "outputs": [],
   "source": [
    "echelle_order_to_focus_on = 65\n",
    "df_data = df_data[df_data.order == echelle_order_to_focus_on].reset_index(drop=True)"
   ]
  },
  {
   "cell_type": "code",
   "execution_count": null,
   "id": "prerequisite-softball",
   "metadata": {},
   "outputs": [],
   "source": [
    "df_data.wavelength.values"
   ]
  },
  {
   "cell_type": "code",
   "execution_count": null,
   "id": "continuing-pipeline",
   "metadata": {},
   "outputs": [],
   "source": [
    "def create_interact_ui(doc):\n",
    "    \n",
    "    # Make the spectrum source\n",
    "    scalar_norm = np.percentile(df_nir.flux.values, 95)\n",
    "    spec_source = ColumnDataSource(\n",
    "        data=dict(\n",
    "            wavelength=df_nir.wavelength.values,\n",
    "            flux=gaussian_filter1d(df_nir.flux.values/scalar_norm, 0.1),\n",
    "            native_flux = df_nir.flux.values / scalar_norm,\n",
    "            native_wavelength = df_nir.wavelength.values\n",
    "        )\n",
    "    )\n",
    "    \n",
    "    nirspec_source = ColumnDataSource(\n",
    "        data=dict(\n",
    "            wavelength=df_data.wavelength.values,\n",
    "            flux=df_data.flux.values)\n",
    "    )\n",
    "    \n",
    "    fig = figure(\n",
    "        title=\"Sonora Bobcat in Bokeh\",\n",
    "        plot_height=340,\n",
    "        plot_width=600,\n",
    "        tools=\"pan,wheel_zoom,box_zoom,tap,reset\",\n",
    "        toolbar_location=\"below\",\n",
    "        border_fill_color=\"whitesmoke\",\n",
    "    )\n",
    "    fig.title.offset = -10\n",
    "    fig.yaxis.axis_label = \"Flux \"\n",
    "    fig.xaxis.axis_label = \"Wavelength (micron)\"\n",
    "    fig.y_range = Range1d(start=0, end=1.5)\n",
    "    #xmin, xmax = df_data.wavelength.min()*0.995, df_data.wavelength.max()*1.005\n",
    "    fig.x_range = Range1d(start=xmin, end=xmax)\n",
    "\n",
    "    fig.step(\n",
    "            \"wavelength\",\n",
    "            \"flux\",\n",
    "            line_width=1,\n",
    "            color=\"gray\",\n",
    "            source=spec_source,\n",
    "            nonselection_line_color=\"gray\",\n",
    "            nonselection_line_alpha=1.0,\n",
    "        )\n",
    "    \n",
    "    #fig.step(\n",
    "    #        \"wavelength\",\n",
    "    #        \"flux\",\n",
    "    #        line_width=1,\n",
    "    #        color=\"gray\",\n",
    "    #        source=nirspec_source,\n",
    "    #        nonselection_line_color=\"blue\",\n",
    "    #        nonselection_line_alpha=1.0,\n",
    "    #    )\n",
    "    \n",
    "    \n",
    "    \n",
    "    # Slider to decimate the data\n",
    "    smoothing_slider = Slider(\n",
    "            start=0.1,\n",
    "            end=40,\n",
    "            value=0.1,\n",
    "            step=0.1,\n",
    "            title=\"Spectral resolution kernel\",\n",
    "            width=490\n",
    "        )\n",
    "    \n",
    "    vz_slider = Slider(\n",
    "            start=-0.009,\n",
    "            end=0.009,\n",
    "            value=0.00,\n",
    "            step=0.0005,\n",
    "            title=\"Radial Velocity\",\n",
    "            width=490,\n",
    "        format='0.000f'\n",
    "        )\n",
    "    \n",
    "\n",
    "    teff_slider = Slider(\n",
    "            start=min(teff_points),\n",
    "            end=max(teff_points),\n",
    "            value=1000,\n",
    "            step=25,\n",
    "            title=\"Teff\",\n",
    "            width=490\n",
    "        )\n",
    "    teff_message = Div(text=\"Closest grid point: {}\".format(teff), width=100, height=10)\n",
    "    logg_slider = Slider(\n",
    "            start=min(logg_points),\n",
    "            end=max(logg_points),\n",
    "            value=5.0,\n",
    "            step=0.25,\n",
    "            title=\"logg\",\n",
    "            width=490\n",
    "        )\n",
    "    r_button = Button(label=\">\", button_type=\"default\", width=30)\n",
    "    l_button = Button(label=\"<\", button_type=\"default\", width=30)\n",
    "    \n",
    "    def update_upon_smooth(attr, old, new):\n",
    "        \"\"\"Callback to take action when smoothing slider changes\"\"\"\n",
    "        #spec_source.data[\"wavelength\"] = df_nir.wavelength.values[::new]\n",
    "        spec_source.data[\"flux\"] = gaussian_filter1d(spec_source.data[\"native_flux\"], new)\n",
    "        \n",
    "    def update_upon_vz(attr, old, new):\n",
    "        \"\"\"Callback to take action when vz slider changes\"\"\"\n",
    "        spec_source.data[\"wavelength\"] = spec_source.data[\"native_wavelength\"] - new\n",
    "        #spec_source.data[\"flux\"] = gaussian_filter1d(df_nir.flux.values, new)\n",
    "        \n",
    "    def update_upon_teff_selection(attr, old, new):\n",
    "        \"\"\"Callback to take action when teff slider changes\"\"\"\n",
    "        teff = find_nearest(teff_points, new)\n",
    "        if teff != old:\n",
    "            teff_message.text = \"Closest grid point: {}\".format(teff)\n",
    "            base_name = \"sp_t{0:0>.0f}g{1:}nc_m0.0\".format(np.float(teff), logg_par_dict[logg])\n",
    "\n",
    "            fn = '../../intuition/models/spectra/'+base_name+'.gz'\n",
    "            if precache:\n",
    "                df_nir = precached_grid[base_name]\n",
    "            else:\n",
    "                df_nir = load_and_prep_spectrum(fn, downsample=4)\n",
    "            scalar_norm = np.percentile(df_nir.flux.values, 95)\n",
    "            spec_source.data[\"native_wavelength\"] = df_nir.wavelength.values\n",
    "            spec_source.data[\"native_flux\"] = df_nir.flux.values / scalar_norm\n",
    "            spec_source.data[\"wavelength\"] = df_nir.wavelength.values - vz_slider.value\n",
    "            spec_source.data[\"flux\"] = gaussian_filter1d(df_nir.flux.values/ scalar_norm, smoothing_slider.value)\n",
    "            \n",
    "        else:\n",
    "            pass\n",
    "        \n",
    "    def update_upon_logg_selection(attr, old, new):\n",
    "        \"\"\"Callback to take action when logg slider changes\"\"\"\n",
    "        teff = find_nearest(teff_points, teff_slider.value)\n",
    "        base_name = \"sp_t{0:0>.0f}g{1:}nc_m0.0\".format(np.float(teff), logg_par_dict[new])\n",
    "\n",
    "        fn = '../../intuition/models/spectra/'+base_name+'.gz'\n",
    "        if precache:\n",
    "            df_nir = precached_grid[base_name]\n",
    "        else:\n",
    "            df_nir = load_and_prep_spectrum(fn, downsample=4)\n",
    "        scalar_norm = np.percentile(df_nir.flux.values, 95)\n",
    "        spec_source.data[\"native_wavelength\"] = df_nir.wavelength.values\n",
    "        spec_source.data[\"native_flux\"] = df_nir.flux.values / scalar_norm\n",
    "        spec_source.data[\"wavelength\"] = df_nir.wavelength.values - vz_slider.value\n",
    "        spec_source.data[\"flux\"] = gaussian_filter1d(df_nir.flux.values/ scalar_norm, smoothing_slider.value)\n",
    "\n",
    "    def go_right_by_one():\n",
    "        \"\"\"Step forward in time by a single cadence\"\"\"\n",
    "        current_index = np.abs(teff_points - teff_slider.value).argmin()\n",
    "        new_index = current_index + 1\n",
    "        if new_index <= (len(teff_points)-1):\n",
    "            teff_slider.value = teff_points[new_index]\n",
    "\n",
    "    def go_left_by_one():\n",
    "        \"\"\"Step back in time by a single cadence\"\"\"\n",
    "        current_index = np.abs(teff_points - teff_slider.value).argmin()\n",
    "        new_index = current_index - 1\n",
    "        if new_index >= 0:\n",
    "            teff_slider.value = teff_points[new_index]\n",
    "        \n",
    "    r_button.on_click(go_right_by_one)\n",
    "    l_button.on_click(go_left_by_one)\n",
    "    smoothing_slider.on_change(\"value\", update_upon_smooth)\n",
    "    vz_slider.on_change(\"value\", update_upon_vz)\n",
    "    teff_slider.on_change(\"value\", update_upon_teff_selection)\n",
    "    logg_slider.on_change(\"value\", update_upon_logg_selection)\n",
    "    \n",
    "    sp1, sp2, sp3, sp4 = (\n",
    "            Spacer(width=5),\n",
    "            Spacer(width=10),\n",
    "            Spacer(width=20),\n",
    "            Spacer(width=100),\n",
    "        )\n",
    "    \n",
    "    widgets_and_figures = layout(\n",
    "            [fig],\n",
    "            [l_button, sp1, r_button, sp2, teff_slider, sp3, teff_message],\n",
    "            [sp4, logg_slider],\n",
    "            [sp4, smoothing_slider],\n",
    "            [sp4, vz_slider]\n",
    "        )\n",
    "    doc.add_root(widgets_and_figures)"
   ]
  },
  {
   "cell_type": "code",
   "execution_count": null,
   "id": "known-screening",
   "metadata": {},
   "outputs": [],
   "source": [
    "output_notebook(verbose=False, hide_banner=True)\n",
    "show(create_interact_ui)"
   ]
  },
  {
   "cell_type": "markdown",
   "id": "temporal-interest",
   "metadata": {},
   "source": [
    "Woohoo, it works!"
   ]
  },
  {
   "cell_type": "code",
   "execution_count": null,
   "id": "faced-adobe",
   "metadata": {},
   "outputs": [],
   "source": []
  }
 ],
 "metadata": {
  "kernelspec": {
   "display_name": "Python 3",
   "language": "python",
   "name": "python3"
  },
  "language_info": {
   "codemirror_mode": {
    "name": "ipython",
    "version": 3
   },
   "file_extension": ".py",
   "mimetype": "text/x-python",
   "name": "python",
   "nbconvert_exporter": "python",
   "pygments_lexer": "ipython3",
   "version": "3.6.12"
  }
 },
 "nbformat": 4,
 "nbformat_minor": 5
}
